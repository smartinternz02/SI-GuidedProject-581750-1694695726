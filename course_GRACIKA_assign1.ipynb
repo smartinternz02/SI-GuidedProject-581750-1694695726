{
  "nbformat": 4,
  "nbformat_minor": 0,
  "metadata": {
    "colab": {
      "provenance": []
    },
    "kernelspec": {
      "name": "python3",
      "display_name": "Python 3"
    },
    "language_info": {
      "name": "python"
    }
  },
  "cells": [
    {
      "cell_type": "code",
      "execution_count": null,
      "metadata": {
        "id": "sGNLSr0VNBOF"
      },
      "outputs": [],
      "source": [
        "import numpy as np\n",
        "import pandas as pd"
      ]
    },
    {
      "cell_type": "markdown",
      "source": [
        "task 1 : Create a pandas dataframe (DataFrame name as 'df') with numpy random values (4 features and 4 observation)"
      ],
      "metadata": {
        "id": "RKdk_KvTNcMc"
      }
    },
    {
      "cell_type": "code",
      "source": [
        "num_observations = 4\n",
        "num_features = 4\n",
        "\n",
        "random_values = np.random.randint(0, 101, size=(num_observations, num_features))\n",
        "\n",
        "# Creating the pandas DataFrame\n",
        "df = pd.DataFrame(random_values)\n",
        "\n",
        "# Display the DataFrame\n",
        "print(df)"
      ],
      "metadata": {
        "colab": {
          "base_uri": "https://localhost:8080/"
        },
        "id": "uLOXS3FMNmbR",
        "outputId": "44c6066b-5f47-46c8-90a9-f06adf164b9d"
      },
      "execution_count": null,
      "outputs": [
        {
          "output_type": "stream",
          "name": "stdout",
          "text": [
            "    0   1   2   3\n",
            "0  22  55  76  26\n",
            "1  41  62  30  63\n",
            "2  21  47   4  45\n",
            "3  93  94  93   0\n"
          ]
        }
      ]
    },
    {
      "cell_type": "code",
      "source": [
        "# introducing some null values\n",
        "df.iloc[0, 1] = np.nan\n",
        "df.iloc[2, 3] = np.nan\n",
        "\n",
        "# Display the DataFrame\n",
        "print(\"DataFrame:\")\n",
        "print(df)\n"
      ],
      "metadata": {
        "colab": {
          "base_uri": "https://localhost:8080/"
        },
        "id": "eIyeZ9suPghO",
        "outputId": "17a3abe4-8b37-4667-ea17-bc7796d9bc55"
      },
      "execution_count": null,
      "outputs": [
        {
          "output_type": "stream",
          "name": "stdout",
          "text": [
            "DataFrame:\n",
            "    0     1   2     3\n",
            "0  22   NaN  76  26.0\n",
            "1  41  62.0  30  63.0\n",
            "2  21  47.0   4   NaN\n",
            "3  93  94.0  93   0.0\n"
          ]
        }
      ]
    },
    {
      "cell_type": "markdown",
      "source": [
        "Task 2: Rename the task-1 'df' dataframe column names to 'Random value 1'. 'Random value 2', 'Random value 3' & 'Random value 4'"
      ],
      "metadata": {
        "id": "eU7DeK7pOHdI"
      }
    },
    {
      "cell_type": "code",
      "source": [
        "new_column_names = ['Random value 1', 'Random value 2', 'Random value 3','Random value 4']\n",
        "df.columns = new_column_names\n",
        "df"
      ],
      "metadata": {
        "colab": {
          "base_uri": "https://localhost:8080/",
          "height": 175
        },
        "id": "27lorW13N-Rr",
        "outputId": "701d6613-5a06-4cc0-89f2-cd552f131d3b"
      },
      "execution_count": null,
      "outputs": [
        {
          "output_type": "execute_result",
          "data": {
            "text/plain": [
              "   Random value 1  Random value 2  Random value 3  Random value 4\n",
              "0              22             NaN              76            26.0\n",
              "1              41            62.0              30            63.0\n",
              "2              21            47.0               4             NaN\n",
              "3              93            94.0              93             0.0"
            ],
            "text/html": [
              "\n",
              "  <div id=\"df-a025610c-e9cb-4be7-aea1-5362c051a98f\" class=\"colab-df-container\">\n",
              "    <div>\n",
              "<style scoped>\n",
              "    .dataframe tbody tr th:only-of-type {\n",
              "        vertical-align: middle;\n",
              "    }\n",
              "\n",
              "    .dataframe tbody tr th {\n",
              "        vertical-align: top;\n",
              "    }\n",
              "\n",
              "    .dataframe thead th {\n",
              "        text-align: right;\n",
              "    }\n",
              "</style>\n",
              "<table border=\"1\" class=\"dataframe\">\n",
              "  <thead>\n",
              "    <tr style=\"text-align: right;\">\n",
              "      <th></th>\n",
              "      <th>Random value 1</th>\n",
              "      <th>Random value 2</th>\n",
              "      <th>Random value 3</th>\n",
              "      <th>Random value 4</th>\n",
              "    </tr>\n",
              "  </thead>\n",
              "  <tbody>\n",
              "    <tr>\n",
              "      <th>0</th>\n",
              "      <td>22</td>\n",
              "      <td>NaN</td>\n",
              "      <td>76</td>\n",
              "      <td>26.0</td>\n",
              "    </tr>\n",
              "    <tr>\n",
              "      <th>1</th>\n",
              "      <td>41</td>\n",
              "      <td>62.0</td>\n",
              "      <td>30</td>\n",
              "      <td>63.0</td>\n",
              "    </tr>\n",
              "    <tr>\n",
              "      <th>2</th>\n",
              "      <td>21</td>\n",
              "      <td>47.0</td>\n",
              "      <td>4</td>\n",
              "      <td>NaN</td>\n",
              "    </tr>\n",
              "    <tr>\n",
              "      <th>3</th>\n",
              "      <td>93</td>\n",
              "      <td>94.0</td>\n",
              "      <td>93</td>\n",
              "      <td>0.0</td>\n",
              "    </tr>\n",
              "  </tbody>\n",
              "</table>\n",
              "</div>\n",
              "    <div class=\"colab-df-buttons\">\n",
              "\n",
              "  <div class=\"colab-df-container\">\n",
              "    <button class=\"colab-df-convert\" onclick=\"convertToInteractive('df-a025610c-e9cb-4be7-aea1-5362c051a98f')\"\n",
              "            title=\"Convert this dataframe to an interactive table.\"\n",
              "            style=\"display:none;\">\n",
              "\n",
              "  <svg xmlns=\"http://www.w3.org/2000/svg\" height=\"24px\" viewBox=\"0 -960 960 960\">\n",
              "    <path d=\"M120-120v-720h720v720H120Zm60-500h600v-160H180v160Zm220 220h160v-160H400v160Zm0 220h160v-160H400v160ZM180-400h160v-160H180v160Zm440 0h160v-160H620v160ZM180-180h160v-160H180v160Zm440 0h160v-160H620v160Z\"/>\n",
              "  </svg>\n",
              "    </button>\n",
              "\n",
              "  <style>\n",
              "    .colab-df-container {\n",
              "      display:flex;\n",
              "      gap: 12px;\n",
              "    }\n",
              "\n",
              "    .colab-df-convert {\n",
              "      background-color: #E8F0FE;\n",
              "      border: none;\n",
              "      border-radius: 50%;\n",
              "      cursor: pointer;\n",
              "      display: none;\n",
              "      fill: #1967D2;\n",
              "      height: 32px;\n",
              "      padding: 0 0 0 0;\n",
              "      width: 32px;\n",
              "    }\n",
              "\n",
              "    .colab-df-convert:hover {\n",
              "      background-color: #E2EBFA;\n",
              "      box-shadow: 0px 1px 2px rgba(60, 64, 67, 0.3), 0px 1px 3px 1px rgba(60, 64, 67, 0.15);\n",
              "      fill: #174EA6;\n",
              "    }\n",
              "\n",
              "    .colab-df-buttons div {\n",
              "      margin-bottom: 4px;\n",
              "    }\n",
              "\n",
              "    [theme=dark] .colab-df-convert {\n",
              "      background-color: #3B4455;\n",
              "      fill: #D2E3FC;\n",
              "    }\n",
              "\n",
              "    [theme=dark] .colab-df-convert:hover {\n",
              "      background-color: #434B5C;\n",
              "      box-shadow: 0px 1px 3px 1px rgba(0, 0, 0, 0.15);\n",
              "      filter: drop-shadow(0px 1px 2px rgba(0, 0, 0, 0.3));\n",
              "      fill: #FFFFFF;\n",
              "    }\n",
              "  </style>\n",
              "\n",
              "    <script>\n",
              "      const buttonEl =\n",
              "        document.querySelector('#df-a025610c-e9cb-4be7-aea1-5362c051a98f button.colab-df-convert');\n",
              "      buttonEl.style.display =\n",
              "        google.colab.kernel.accessAllowed ? 'block' : 'none';\n",
              "\n",
              "      async function convertToInteractive(key) {\n",
              "        const element = document.querySelector('#df-a025610c-e9cb-4be7-aea1-5362c051a98f');\n",
              "        const dataTable =\n",
              "          await google.colab.kernel.invokeFunction('convertToInteractive',\n",
              "                                                    [key], {});\n",
              "        if (!dataTable) return;\n",
              "\n",
              "        const docLinkHtml = 'Like what you see? Visit the ' +\n",
              "          '<a target=\"_blank\" href=https://colab.research.google.com/notebooks/data_table.ipynb>data table notebook</a>'\n",
              "          + ' to learn more about interactive tables.';\n",
              "        element.innerHTML = '';\n",
              "        dataTable['output_type'] = 'display_data';\n",
              "        await google.colab.output.renderOutput(dataTable, element);\n",
              "        const docLink = document.createElement('div');\n",
              "        docLink.innerHTML = docLinkHtml;\n",
              "        element.appendChild(docLink);\n",
              "      }\n",
              "    </script>\n",
              "  </div>\n",
              "\n",
              "    </div>\n",
              "  </div>\n"
            ]
          },
          "metadata": {},
          "execution_count": 13
        }
      ]
    },
    {
      "cell_type": "markdown",
      "source": [
        "task 3: Find the descriptive statistics of the 'df' dataframe."
      ],
      "metadata": {
        "id": "v02kuXmLO7b2"
      }
    },
    {
      "cell_type": "code",
      "source": [
        "descriptive_stats = df.describe()\n",
        "print(\"\\nDescriptive Statistics:\")\n",
        "print(descriptive_stats)"
      ],
      "metadata": {
        "colab": {
          "base_uri": "https://localhost:8080/"
        },
        "id": "BQkBfuAzO9LI",
        "outputId": "54e2fffe-3790-4778-8071-225b9b5ebe30"
      },
      "execution_count": null,
      "outputs": [
        {
          "output_type": "stream",
          "name": "stdout",
          "text": [
            "\n",
            "Descriptive Statistics:\n",
            "       Random value 1  Random value 2  Random value 3  Random value 4\n",
            "count        4.000000        3.000000         4.00000        3.000000\n",
            "mean        44.250000       67.666667        50.75000       29.666667\n",
            "std         33.777458       24.006943        40.98272       31.659648\n",
            "min         21.000000       47.000000         4.00000        0.000000\n",
            "25%         21.750000       54.500000        23.50000       13.000000\n",
            "50%         31.500000       62.000000        53.00000       26.000000\n",
            "75%         54.000000       78.000000        80.25000       44.500000\n",
            "max         93.000000       94.000000        93.00000       63.000000\n"
          ]
        }
      ]
    },
    {
      "cell_type": "markdown",
      "source": [
        "task 4: Check for the null values in 'df and find the data type of the columns.'\n"
      ],
      "metadata": {
        "id": "CQxkpfgnPDNt"
      }
    },
    {
      "cell_type": "code",
      "source": [
        "null_values = df.isnull()\n",
        "print(\"\\nNull Values:\")\n",
        "print(null_values)\n",
        "data_types = df.dtypes\n",
        "print(\"\\nData Types:\")\n",
        "print(data_types)"
      ],
      "metadata": {
        "colab": {
          "base_uri": "https://localhost:8080/"
        },
        "id": "wpxBZtWPQUSG",
        "outputId": "59f37958-a5c8-4a7d-aabd-cc3114ab87ef"
      },
      "execution_count": null,
      "outputs": [
        {
          "output_type": "stream",
          "name": "stdout",
          "text": [
            "\n",
            "Null Values:\n",
            "   Random value 1  Random value 2  Random value 3  Random value 4\n",
            "0           False            True           False           False\n",
            "1           False           False           False           False\n",
            "2           False           False           False            True\n",
            "3           False           False           False           False\n",
            "\n",
            "Data Types:\n",
            "Random value 1      int64\n",
            "Random value 2    float64\n",
            "Random value 3      int64\n",
            "Random value 4    float64\n",
            "dtype: object\n"
          ]
        }
      ]
    },
    {
      "cell_type": "markdown",
      "source": [
        "Task 5: Display the 'Random value 2' & 'Random value 3' columns with location method and index location method."
      ],
      "metadata": {
        "id": "qbdb3ZdcQg1o"
      }
    },
    {
      "cell_type": "code",
      "source": [
        "print(\"Using label-based location (loc method):\")\n",
        "print(df.loc[:, ['Random value 2', 'Random value 3']])\n",
        "print(\"\\nUsing index-based location (iloc method):\")\n",
        "print(df.iloc[:, [1, 2]])"
      ],
      "metadata": {
        "colab": {
          "base_uri": "https://localhost:8080/"
        },
        "id": "od-K0UzZQvUU",
        "outputId": "9f5bfbb8-a0d9-4672-ffd9-5356598553f5"
      },
      "execution_count": null,
      "outputs": [
        {
          "output_type": "stream",
          "name": "stdout",
          "text": [
            "Using label-based location (loc method):\n",
            "   Random value 2  Random value 3\n",
            "0             NaN              76\n",
            "1            62.0              30\n",
            "2            47.0               4\n",
            "3            94.0              93\n",
            "\n",
            "Using index-based location (iloc method):\n",
            "   Random value 2  Random value 3\n",
            "0             NaN              76\n",
            "1            62.0              30\n",
            "2            47.0               4\n",
            "3            94.0              93\n"
          ]
        }
      ]
    }
  ]
}